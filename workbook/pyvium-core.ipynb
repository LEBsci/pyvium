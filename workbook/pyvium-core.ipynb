{
 "cells": [
  {
   "cell_type": "code",
   "execution_count": 2,
   "id": "141909ca",
   "metadata": {},
   "outputs": [],
   "source": [
    "from cffi import FFI"
   ]
  },
  {
   "cell_type": "code",
   "execution_count": 3,
   "id": "c5000f71",
   "metadata": {},
   "outputs": [],
   "source": [
    "ffi = FFI()\n",
    "ffi.cdef(\"\"\"\n",
    "    long __stdcall IV_open();\n",
    "    long __stdcall IV_close();\n",
    "    long __stdcall IV_selectdevice(long *devnr);\n",
    "    long __stdcall IV_connect(long* devconnect);\n",
    "    long __stdcall IV_readSN(char *sntext);\n",
    "    long __stdcall IV_getdevicestatus(long *devstatus);\n",
    "    long __stdcall IV_getcellstatus(long *devcellstatus);\n",
    "    long __stdcall IV_setcellon(long *cellon);\n",
    "    long __stdcall IV_getcurrent(double *value);\n",
    "    long __stdcall IV_setcurrent(double *value);\n",
    "    long __stdcall IV_setpotential(double *value);\n",
    "    long __stdcall IV_getpotential(double *value);\n",
    "    long __stdcall IV_readmethod(char* fname);\n",
    "    long __stdcall IV_startmethod(char *fname);\n",
    "    long __stdcall IV_abort();\n",
    "    \n",
    "\"\"\")\n"
   ]
  },
  {
   "cell_type": "code",
   "execution_count": 4,
   "id": "bad6d6e5",
   "metadata": {
    "tags": []
   },
   "outputs": [
    {
     "name": "stdout",
     "output_type": "stream",
     "text": [
      "-1\n",
      "no IviumSoft.\n"
     ]
    },
    {
     "ename": "NameError",
     "evalue": "name 'hw_version' is not defined",
     "output_type": "error",
     "traceback": [
      "\u001b[1;31m---------------------------------------------------------------------------\u001b[0m",
      "\u001b[1;31mNameError\u001b[0m                                 Traceback (most recent call last)",
      "Cell \u001b[1;32mIn [4], line 13\u001b[0m\n\u001b[0;32m     11\u001b[0m \u001b[39mif\u001b[39;00m rc \u001b[39m==\u001b[39m \u001b[39m-\u001b[39m\u001b[39m1\u001b[39m \u001b[39mor\u001b[39;00m \u001b[39mnot\u001b[39;00m hw_version:\n\u001b[0;32m     12\u001b[0m     \u001b[39mprint\u001b[39m(\u001b[39m\"\u001b[39m\u001b[39mno IviumSoft.\u001b[39m\u001b[39m\"\u001b[39m)\n\u001b[1;32m---> 13\u001b[0m \u001b[39mif\u001b[39;00m rc \u001b[39m==\u001b[39m \u001b[39m1\u001b[39m \u001b[39mor\u001b[39;00m \u001b[39mnot\u001b[39;00m hw_version:\n\u001b[0;32m     14\u001b[0m     \u001b[39mprint\u001b[39m(\u001b[39m\"\u001b[39m\u001b[39mno device.\u001b[39m\u001b[39m\"\u001b[39m)\n",
      "\u001b[1;31mNameError\u001b[0m: name 'hw_version' is not defined"
     ]
    }
   ],
   "source": [
    "connflag = ffi.new(\"long *\", 1)\n",
    "pchar16 = ffi.new(\"char[]\", 16)\n",
    "lib = ffi.dlopen(\"../pyvium_core/IVIUM_remdriver64.dll\")\n",
    "lib.IV_open()\n",
    "rc = lib.IV_connect(connflag)\n",
    "print(rc)\n",
    "if rc == 0:\n",
    "    rc = lib.IV_readSN(pchar16)\n",
    "    hw_version = ffi.string(pchar16).decode(\"utf-8\") \n",
    "    print('Serial num:',hw_version)\n",
    "if rc == -1 or not hw_version:\n",
    "    print(\"no IviumSoft.\")\n",
    "if rc == 1 or not hw_version:\n",
    "    print(\"no device.\")\n"
   ]
  },
  {
   "cell_type": "markdown",
   "id": "f74846aa",
   "metadata": {},
   "source": [
    "Get potential (OCP)"
   ]
  },
  {
   "cell_type": "code",
   "execution_count": null,
   "id": "3d9c2d6b",
   "metadata": {},
   "outputs": [
    {
     "data": {
      "text/plain": [
       "0.000339746504323557"
      ]
     },
     "execution_count": 6,
     "metadata": {},
     "output_type": "execute_result"
    }
   ],
   "source": [
    "def IV_getpotential():\n",
    "    pdouble = ffi.new(\"double *\")\n",
    "    rc = lib.IV_getpotential(pdouble)\n",
    "    return pdouble[0]\n",
    "IV_getpotential()\n",
    "\n"
   ]
  },
  {
   "cell_type": "code",
   "execution_count": null,
   "id": "c7185637",
   "metadata": {},
   "outputs": [],
   "source": []
  },
  {
   "cell_type": "code",
   "execution_count": null,
   "id": "005da90d",
   "metadata": {},
   "outputs": [],
   "source": []
  }
 ],
 "metadata": {
  "kernelspec": {
   "display_name": "Python 3.11.0 64-bit",
   "language": "python",
   "name": "python3"
  },
  "language_info": {
   "codemirror_mode": {
    "name": "ipython",
    "version": 3
   },
   "file_extension": ".py",
   "mimetype": "text/x-python",
   "name": "python",
   "nbconvert_exporter": "python",
   "pygments_lexer": "ipython3",
   "version": "3.11.0"
  },
  "vscode": {
   "interpreter": {
    "hash": "c261aea317cc0286b3b3261fbba9abdec21eaa57589985bb7a274bf54d6cc0a7"
   }
  }
 },
 "nbformat": 4,
 "nbformat_minor": 5
}
