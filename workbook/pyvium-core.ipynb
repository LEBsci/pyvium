{
 "cells": [
  {
   "cell_type": "code",
   "execution_count": 13,
   "id": "141909ca",
   "metadata": {},
   "outputs": [],
   "source": [
    "from cffi import FFI"
   ]
  },
  {
   "cell_type": "code",
   "execution_count": 14,
   "id": "c5000f71",
   "metadata": {},
   "outputs": [],
   "source": [
    "ffi = FFI()\n",
    "ffi.cdef(\"\"\"\n",
    "    long __stdcall IV_open();\n",
    "    long __stdcall IV_close();\n",
    "    long __stdcall IV_MaxDevices();\n",
    "    long __stdcall IV_selectdevice(long *devnr);\n",
    "    long __stdcall IV_getdevicestatus();\n",
    "    long __stdcall IV_readSN(char *sntext);\n",
    "    long __stdcall IV_connect(long* devconnect);\n",
    "    long __stdcall IV_VersionHost(long *version);\n",
    "    long __stdcall IV_VersionDll();\n",
    "    long __stdcall IV_VersionCheck();\n",
    "    long __stdcall IV_HostHandle();\n",
    "    long __stdcall IV_VersionDllFile();\n",
    "    long __stdcall IV_VersionDllFileStr();\n",
    "    long __stdcall IV_SelectChannel(long *channel);\n",
    "    \n",
    "    long __stdcall IV_getcellstatus(long *devcellstatus);\n",
    "    long __stdcall IV_setconnectionmode(long *value);\n",
    "    long __stdcall IV_setcellon(long *cellon);\n",
    "    long __stdcall IV_setpotential(double *value);\n",
    "    long __stdcall IV_setpotentialWE2(double *value);\n",
    "    long __stdcall IV_setcurrent(double *value);\n",
    "    long __stdcall IV_getpotential(double *value);\n",
    "    long __stdcall IV_setcurrentrange(long *value);\n",
    "    long __stdcall IV_setcurrentrangeWE2(long *value);\n",
    "    long __stdcall IV_getcurrent(double *value);\n",
    "    long __stdcall IV_getcurrentWE2(double *value);\n",
    "    long __stdcall IV_setfilter(long *value);\n",
    "    long __stdcall IV_setstability(long *value);\n",
    "    long __stdcall IV_setbistatmode(long *value);\n",
    "    long __stdcall IV_setdac(long *channr, double *value);\n",
    "    long __stdcall IV_getadc(long *channr, double *value);\n",
    "    long __stdcall IV_setmuxchannel(long *value);\n",
    "    long __stdcall IV_setdigout(long *value);\n",
    "    long __stdcall IV_getdigin(long *value);\n",
    "    long __stdcall IV_setfrequency(double *value);\n",
    "    long __stdcall IV_setamplitude(double *value);\n",
    "    long __stdcall IV_getcurrenttrace(long* npoints, double *rate, double *values);\n",
    "    long __stdcall IV_getcurrentWE2trace(long* npoints, double *rate, double *values);\n",
    "    long __stdcall IV_getpotentialtrace(long* npoints, double *rate, double *values);\n",
    "\n",
    "    long __stdcall IV_we32setchannel(long *index);\n",
    "    long __stdcall IV_we32setoffset(long *index, double *value);\n",
    "    long __stdcall IV_we32setoffsets(long *nval, double *values);\n",
    "    long __stdcall IV_we32getoffsets(long *nval, double *values);\n",
    "    long __stdcall IV_we32readcurrents(double *values);\n",
    "\n",
    "    long __stdcall IV_readmethod(char *fname);\n",
    "    long __stdcall IV_savemethod(char *fname);\n",
    "    long __stdcall IV_startmethod(char *fname);\n",
    "    long __stdcall IV_abort();\n",
    "    long __stdcall IV_savedata(char *fname);\n",
    "    long __stdcall IV_setmethodparameter(char *parname, char *parvalue);\n",
    "    long __stdcall IV_Ndatapoints(long *value);\n",
    "    long __stdcall IV_getdata(long *pointnr, double *x, double *y, double *z);\n",
    "    long __stdcall IV_getdatafromline(long *pointnr, long *scannr, double *x, double *y, double *z);\n",
    "\n",
    "    long __stdcall IV_getDbFileName(char *fname);\n",
    "\n",
    "    long __stdcall IV_StatusParGet(long *value);\n",
    "    long __stdcall IV_StatusParSet(long *value);\n",
    "\"\"\")"
   ]
  },
  {
   "cell_type": "markdown",
   "id": "e328bc98",
   "metadata": {},
   "source": [
    "## Import dll"
   ]
  },
  {
   "cell_type": "code",
   "execution_count": 15,
   "id": "0fe8afb5",
   "metadata": {},
   "outputs": [],
   "source": [
    "lib = ffi.dlopen(\"../pyvium_core/IVIUM_remdriver64.dll\")"
   ]
  },
  {
   "cell_type": "markdown",
   "id": "d9bf61a4",
   "metadata": {},
   "source": [
    "## IV_open()"
   ]
  },
  {
   "cell_type": "code",
   "execution_count": 16,
   "id": "3db9dbc4",
   "metadata": {},
   "outputs": [],
   "source": [
    "def IV_open():\n",
    "    return lib.IV_open()"
   ]
  },
  {
   "cell_type": "code",
   "execution_count": 17,
   "id": "4fe8569d",
   "metadata": {},
   "outputs": [
    {
     "data": {
      "text/plain": [
       "0"
      ]
     },
     "execution_count": 17,
     "metadata": {},
     "output_type": "execute_result"
    }
   ],
   "source": [
    "IV_open()"
   ]
  },
  {
   "cell_type": "markdown",
   "id": "306dfd78",
   "metadata": {},
   "source": [
    "## IV_close()"
   ]
  },
  {
   "cell_type": "code",
   "execution_count": 18,
   "id": "497a9674",
   "metadata": {},
   "outputs": [],
   "source": [
    "# IV_open() --> void\n",
    "# print(IV_open())--> 0\n",
    "\n",
    "def IV_close():\n",
    "    return lib.IV_close()"
   ]
  },
  {
   "cell_type": "code",
   "execution_count": 19,
   "id": "c5604ca2",
   "metadata": {},
   "outputs": [
    {
     "data": {
      "text/plain": [
       "0"
      ]
     },
     "execution_count": 19,
     "metadata": {},
     "output_type": "execute_result"
    }
   ],
   "source": [
    "IV_close()"
   ]
  },
  {
   "cell_type": "markdown",
   "id": "2c55bfb7",
   "metadata": {},
   "source": [
    "## IV_MaxDevices()"
   ]
  },
  {
   "cell_type": "code",
   "execution_count": 20,
   "id": "de514365",
   "metadata": {},
   "outputs": [],
   "source": [
    "def IV_MaxDevices():\n",
    "    return lib.IV_MaxDevices()"
   ]
  },
  {
   "cell_type": "code",
   "execution_count": 21,
   "id": "7be293e9",
   "metadata": {},
   "outputs": [
    {
     "data": {
      "text/plain": [
       "24"
      ]
     },
     "execution_count": 21,
     "metadata": {},
     "output_type": "execute_result"
    }
   ],
   "source": [
    "IV_MaxDevices()"
   ]
  },
  {
   "cell_type": "markdown",
   "id": "1ac8197b",
   "metadata": {},
   "source": [
    "## IV_readSN(char *sntext)"
   ]
  },
  {
   "cell_type": "code",
   "execution_count": 22,
   "id": "6fd683f3",
   "metadata": {},
   "outputs": [
    {
     "data": {
      "text/plain": [
       "''"
      ]
     },
     "execution_count": 22,
     "metadata": {},
     "output_type": "execute_result"
    }
   ],
   "source": [
    "def IV_readSN():\n",
    "    pchar16 = ffi.new(\"char[]\", 16)\n",
    "    rc = lib.IV_readSN(pchar16)\n",
    "    return ffi.string(pchar16).decode(\"utf-8\")\n",
    "IV_readSN()"
   ]
  },
  {
   "cell_type": "code",
   "execution_count": 23,
   "id": "3d9c2d6b",
   "metadata": {},
   "outputs": [
    {
     "data": {
      "text/plain": [
       "0.0"
      ]
     },
     "execution_count": 23,
     "metadata": {},
     "output_type": "execute_result"
    }
   ],
   "source": [
    "def IV_getpotential():\n",
    "    pdouble = ffi.new(\"double *\")\n",
    "    rc = lib.IV_getpotential(pdouble)\n",
    "    return pdouble[0]\n",
    "IV_getpotential()\n",
    "\n"
   ]
  },
  {
   "cell_type": "code",
   "execution_count": null,
   "id": "c7185637",
   "metadata": {},
   "outputs": [],
   "source": []
  },
  {
   "cell_type": "code",
   "execution_count": null,
   "id": "005da90d",
   "metadata": {},
   "outputs": [],
   "source": []
  }
 ],
 "metadata": {
  "kernelspec": {
   "display_name": "Python 3.11.0 64-bit",
   "language": "python",
   "name": "python3"
  },
  "language_info": {
   "codemirror_mode": {
    "name": "ipython",
    "version": 3
   },
   "file_extension": ".py",
   "mimetype": "text/x-python",
   "name": "python",
   "nbconvert_exporter": "python",
   "pygments_lexer": "ipython3",
   "version": "3.11.0"
  },
  "vscode": {
   "interpreter": {
    "hash": "b35fd3d2d35c7e7a323f57a02d50abceb9a6ef53e1d54707494ee08c6eeeec87"
   }
  }
 },
 "nbformat": 4,
 "nbformat_minor": 5
}
