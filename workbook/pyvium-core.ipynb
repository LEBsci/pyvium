{
 "cells": [
  {
   "cell_type": "code",
   "execution_count": 1,
   "id": "141909ca",
   "metadata": {},
   "outputs": [],
   "source": [
    "from cffi import FFI"
   ]
  },
  {
   "cell_type": "code",
   "execution_count": 2,
   "id": "c5000f71",
   "metadata": {},
   "outputs": [],
   "source": [
    "ffi = FFI()\n",
    "ffi.cdef(\"\"\"\n",
    "    long __stdcall IV_open();\n",
    "    long __stdcall IV_close();\n",
    "    long __stdcall IV_MaxDevices();\n",
    "    long __stdcall IV_selectdevice(long *devnr);\n",
    "    long __stdcall IV_getdevicestatus();\n",
    "    long __stdcall IV_readSN(char *sntext);\n",
    "    long __stdcall IV_connect(long* devconnect);\n",
    "    long __stdcall IV_VersionHost(long *version);\n",
    "    long __stdcall IV_VersionDll();\n",
    "    long __stdcall IV_VersionCheck();\n",
    "    long __stdcall IV_HostHandle();\n",
    "    long __stdcall IV_VersionDllFile();\n",
    "    long __stdcall IV_VersionDllFileStr();\n",
    "    long __stdcall IV_SelectChannel(long *channel);\n",
    "    \n",
    "    long __stdcall IV_getcellstatus(long *devcellstatus);\n",
    "    long __stdcall IV_setconnectionmode(long *value);\n",
    "    long __stdcall IV_setcellon(long *cellon);\n",
    "    long __stdcall IV_setpotential(double *value);\n",
    "    long __stdcall IV_setpotentialWE2(double *value);\n",
    "    long __stdcall IV_setcurrent(double *value);\n",
    "    long __stdcall IV_getpotential(double *value);\n",
    "    long __stdcall IV_setcurrentrange(long *value);\n",
    "    long __stdcall IV_setcurrentrangeWE2(long *value);\n",
    "    long __stdcall IV_getcurrent(double *value);\n",
    "    long __stdcall IV_getcurrentWE2(double *value);\n",
    "    long __stdcall IV_setfilter(long *value);\n",
    "    long __stdcall IV_setstability(long *value);\n",
    "    long __stdcall IV_setbistatmode(long *value);\n",
    "    long __stdcall IV_setdac(long *channr, double *value);\n",
    "    long __stdcall IV_getadc(long *channr, double *value);\n",
    "    long __stdcall IV_setmuxchannel(long *value);\n",
    "    long __stdcall IV_setdigout(long *value);\n",
    "    long __stdcall IV_getdigin(long *value);\n",
    "    long __stdcall IV_setfrequency(double *value);\n",
    "    long __stdcall IV_setamplitude(double *value);\n",
    "    long __stdcall IV_getcurrenttrace(long* npoints, double *rate, double *values);\n",
    "    long __stdcall IV_getcurrentWE2trace(long* npoints, double *rate, double *values);\n",
    "    long __stdcall IV_getpotentialtrace(long* npoints, double *rate, double *values);\n",
    "\n",
    "    long __stdcall IV_we32setchannel(long *index);\n",
    "    long __stdcall IV_we32setoffset(long *index, double *value);\n",
    "    long __stdcall IV_we32setoffsets(long *nval, double *values);\n",
    "    long __stdcall IV_we32getoffsets(long *nval, double *values);\n",
    "    long __stdcall IV_we32readcurrents(double *values);\n",
    "\n",
    "    long __stdcall IV_readmethod(char *fname);\n",
    "    long __stdcall IV_savemethod(char *fname);\n",
    "    long __stdcall IV_startmethod(char *fname);\n",
    "    long __stdcall IV_abort();\n",
    "    long __stdcall IV_savedata(char *fname);\n",
    "    long __stdcall IV_setmethodparameter(char *parname, char *parvalue);\n",
    "    long __stdcall IV_Ndatapoints(long *value);\n",
    "    long __stdcall IV_getdata(long *pointnr, double *x, double *y, double *z);\n",
    "    long __stdcall IV_getdatafromline(long *pointnr, long *scannr, double *x, double *y, double *z);\n",
    "\n",
    "    long __stdcall IV_getDbFileName(char *fname);\n",
    "\n",
    "    long __stdcall IV_StatusParGet(long *value);\n",
    "    long __stdcall IV_StatusParSet(long *value);\n",
    "\"\"\")"
   ]
  },
  {
   "cell_type": "markdown",
   "id": "e328bc98",
   "metadata": {},
   "source": [
    "## Import dll"
   ]
  },
  {
   "cell_type": "code",
   "execution_count": 3,
   "id": "0fe8afb5",
   "metadata": {},
   "outputs": [],
   "source": [
    "lib = ffi.dlopen(\"../pyvium_core/IVIUM_remdriver64.dll\")"
   ]
  },
  {
   "cell_type": "markdown",
   "id": "d9bf61a4",
   "metadata": {},
   "source": [
    "## IV_open()\n",
    "###### no Iviumsoft --> -1\n",
    "###### success --> 0\n",
    "###### already open --> 0"
   ]
  },
  {
   "cell_type": "code",
   "execution_count": 4,
   "id": "3db9dbc4",
   "metadata": {},
   "outputs": [],
   "source": [
    "def open_driver():\n",
    "    return lib.IV_open()"
   ]
  },
  {
   "cell_type": "code",
   "execution_count": 5,
   "id": "4fe8569d",
   "metadata": {},
   "outputs": [],
   "source": [
    "# iv_open()"
   ]
  },
  {
   "cell_type": "markdown",
   "id": "306dfd78",
   "metadata": {},
   "source": [
    "## IV_close()"
   ]
  },
  {
   "cell_type": "code",
   "execution_count": 6,
   "id": "497a9674",
   "metadata": {},
   "outputs": [],
   "source": [
    "def close_driver():\n",
    "    return lib.IV_close()"
   ]
  },
  {
   "cell_type": "code",
   "execution_count": 7,
   "id": "c5604ca2",
   "metadata": {},
   "outputs": [],
   "source": [
    "# iv_close()\n",
    "# iv_open()"
   ]
  },
  {
   "cell_type": "markdown",
   "id": "2c55bfb7",
   "metadata": {},
   "source": [
    "## IV_MaxDevices()"
   ]
  },
  {
   "cell_type": "code",
   "execution_count": 8,
   "id": "de514365",
   "metadata": {},
   "outputs": [],
   "source": [
    "def get_max_device_number():\n",
    "    return lib.IV_MaxDevices()"
   ]
  },
  {
   "cell_type": "code",
   "execution_count": 9,
   "id": "7be293e9",
   "metadata": {},
   "outputs": [
    {
     "data": {
      "text/plain": [
       "24"
      ]
     },
     "execution_count": 9,
     "metadata": {},
     "output_type": "execute_result"
    }
   ],
   "source": [
    "get_max_device_number()"
   ]
  },
  {
   "cell_type": "markdown",
   "id": "1ac8197b",
   "metadata": {},
   "source": [
    "## IV_readSN(char *sntext)\n",
    "######  no IV_open() --> crash\n",
    "######  no Iviumsoft --> -1 (rc=-1)\n",
    "######  no device --> '' (rc=0)\n",
    "######  device --> serialNum (rc=0)"
   ]
  },
  {
   "cell_type": "code",
   "execution_count": 10,
   "id": "6fd683f3",
   "metadata": {},
   "outputs": [],
   "source": [
    "def read_serial_number():\n",
    "    serial_number_char_16 = ffi.new(\"char[]\", 16)\n",
    "    rc = lib.IV_readSN(serial_number_char_16)\n",
    "   \n",
    "    return rc, ffi.string(serial_number_char_16).decode(\"utf-8\")\n",
    "\n",
    "# iv_readSN()"
   ]
  },
  {
   "cell_type": "markdown",
   "id": "9d8e9970",
   "metadata": {},
   "source": [
    "## IV_selectdevice(long *devnr)\n",
    "######  no IV_open() --> crash\n",
    "######  IV_open() --> integer values\n"
   ]
  },
  {
   "cell_type": "code",
   "execution_count": 11,
   "id": "9ef3137f",
   "metadata": {},
   "outputs": [],
   "source": [
    "def select_iviumsoft_instance(iviumsoft_instance_number):\n",
    "    instance_number = ffi.new(\"long *\", iviumsoft_instance_number)\n",
    "    rc = lib.IV_selectdevice(instance_number)\n",
    "\n",
    "    return rc\n",
    "\n",
    "# iv_close()\n",
    "# iv_open()\n",
    "# print(iv_select_device(1))\n",
    "# print(2, iv_selectdevice(1))"
   ]
  },
  {
   "cell_type": "markdown",
   "id": "342d12c1",
   "metadata": {},
   "source": [
    "## IV_connect(long *devconnect)\n",
    "######  no IV_open() --> crash\n",
    "######  IV_open() --> with 1 connects device and with 0 disconnects it\n",
    "###### software not running => -1\n",
    "###### no device connected through usb => 1\n",
    "###### device connected through usb    => 0 (device connected in iviumsoft)\n"
   ]
  },
  {
   "cell_type": "code",
   "execution_count": 12,
   "id": "cbdf3ecb",
   "metadata": {},
   "outputs": [
    {
     "name": "stdout",
     "output_type": "stream",
     "text": [
      "0\n"
     ]
    }
   ],
   "source": [
    "## connection_status: 1 connect, 0 disconnect\n",
    "def connect_device():\n",
    "    connection_on = ffi.new(\"long *\", 1)\n",
    "    return lib.IV_connect(connection_on)\n",
    "\n",
    "def disconnect_device():\n",
    "    connection_off = ffi.new(\"long *\", 0)\n",
    "    return lib.IV_connect(connection_off)\n",
    "\n",
    "open_driver()\n",
    "# print(iv_select_iviumsoft_instance(1))\n",
    "print(connect_device())\n",
    "# print(2, iv_disconnect_device())"
   ]
  },
  {
   "cell_type": "markdown",
   "id": "c980dca5",
   "metadata": {},
   "source": [
    "## IV_VersionDll()\n",
    "######  no IV_open() --> crash\n",
    "######  IV_open() --> returns the version for the driver's dll without points (200)\n"
   ]
  },
  {
   "cell_type": "code",
   "execution_count": 13,
   "id": "198a6f7e",
   "metadata": {},
   "outputs": [],
   "source": [
    "open_driver()\n",
    "def get_dll_version():\n",
    "    return lib.IV_VersionDll()\n",
    "\n",
    "# print(iv_get_dll_version())"
   ]
  },
  {
   "cell_type": "markdown",
   "id": "9d4d1aa3",
   "metadata": {},
   "source": [
    "## IV_VersionCheck()\n",
    "######  no IV_open() --> crash\n",
    "######  IV_open() --> returns 1 if the ivium software is running, -255 otherwise"
   ]
  },
  {
   "cell_type": "code",
   "execution_count": 14,
   "id": "3c7783c9",
   "metadata": {},
   "outputs": [
    {
     "name": "stdout",
     "output_type": "stream",
     "text": [
      "True\n"
     ]
    }
   ],
   "source": [
    "open_driver()\n",
    "def is_iviumsoft_running():\n",
    "    if lib.IV_VersionCheck() == 1:\n",
    "        return True\n",
    "    else:\n",
    "        return False\n",
    "\n",
    "print(is_iviumsoft_running())"
   ]
  },
  {
   "cell_type": "markdown",
   "id": "2d8a2785",
   "metadata": {},
   "source": [
    "\n",
    "## IV_getdevicestatus()\n",
    "\n",
    "-1=no IviumSoft; 0=not connected; 1=available_idle; 2=available_busy; 3=no device available\n"
   ]
  },
  {
   "cell_type": "code",
   "execution_count": null,
   "id": "8619ad21",
   "metadata": {},
   "outputs": [],
   "source": [
    "def get_device_status():\n",
    "    rc = lib.IV_getdevicestatus()\n",
    "    print(rc)\n",
    "    return lib.IV_getdevicestatus()\n",
    "    \n",
    "get_device_status()"
   ]
  }
 ],
 "metadata": {
  "kernelspec": {
   "display_name": "Python 3.11.0 64-bit",
   "language": "python",
   "name": "python3"
  },
  "language_info": {
   "codemirror_mode": {
    "name": "ipython",
    "version": 3
   },
   "file_extension": ".py",
   "mimetype": "text/x-python",
   "name": "python",
   "nbconvert_exporter": "python",
   "pygments_lexer": "ipython3",
   "version": "3.11.0"
  },
  "vscode": {
   "interpreter": {
    "hash": "c261aea317cc0286b3b3261fbba9abdec21eaa57589985bb7a274bf54d6cc0a7"
   }
  }
 },
 "nbformat": 4,
 "nbformat_minor": 5
}
