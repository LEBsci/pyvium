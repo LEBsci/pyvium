{
 "cells": [
  {
   "cell_type": "code",
   "execution_count": 36,
   "id": "141909ca",
   "metadata": {},
   "outputs": [],
   "source": [
    "from cffi import FFI"
   ]
  },
  {
   "cell_type": "code",
   "execution_count": 37,
   "id": "c5000f71",
   "metadata": {},
   "outputs": [],
   "source": [
    "ffi = FFI()\n",
    "ffi.cdef(\"\"\"\n",
    "    long __stdcall IV_open();\n",
    "    long __stdcall IV_close();\n",
    "    long __stdcall IV_MaxDevices();\n",
    "    long __stdcall IV_selectdevice(long *devnr);\n",
    "    long __stdcall IV_getdevicestatus();\n",
    "    long __stdcall IV_readSN(char *sntext);\n",
    "    long __stdcall IV_connect(long* devconnect);\n",
    "    long __stdcall IV_VersionHost(long *version);\n",
    "    long __stdcall IV_VersionDll();\n",
    "    long __stdcall IV_VersionCheck();\n",
    "    long __stdcall IV_HostHandle();\n",
    "    long __stdcall IV_VersionDllFile();\n",
    "    long __stdcall IV_VersionDllFileStr();\n",
    "    long __stdcall IV_SelectChannel(long *channel);\n",
    "    \n",
    "    long __stdcall IV_getcellstatus(long *devcellstatus);\n",
    "    long __stdcall IV_setconnectionmode(long *value);\n",
    "    long __stdcall IV_setcellon(long *cellon);\n",
    "    long __stdcall IV_setpotential(double *value);\n",
    "    long __stdcall IV_setpotentialWE2(double *value);\n",
    "    long __stdcall IV_setcurrent(double *value);\n",
    "    long __stdcall IV_getpotential(double *value);\n",
    "    long __stdcall IV_setcurrentrange(long *value);\n",
    "    long __stdcall IV_setcurrentrangeWE2(long *value);\n",
    "    long __stdcall IV_getcurrent(double *value);\n",
    "    long __stdcall IV_getcurrentWE2(double *value);\n",
    "    long __stdcall IV_setfilter(long *value);\n",
    "    long __stdcall IV_setstability(long *value);\n",
    "    long __stdcall IV_setbistatmode(long *value);\n",
    "    long __stdcall IV_setdac(long *channr, double *value);\n",
    "    long __stdcall IV_getadc(long *channr, double *value);\n",
    "    long __stdcall IV_setmuxchannel(long *value);\n",
    "    long __stdcall IV_setdigout(long *value);\n",
    "    long __stdcall IV_getdigin(long *value);\n",
    "    long __stdcall IV_setfrequency(double *value);\n",
    "    long __stdcall IV_setamplitude(double *value);\n",
    "    long __stdcall IV_getcurrenttrace(long* npoints, double *rate, double *values);\n",
    "    long __stdcall IV_getcurrentWE2trace(long* npoints, double *rate, double *values);\n",
    "    long __stdcall IV_getpotentialtrace(long* npoints, double *rate, double *values);\n",
    "\n",
    "    long __stdcall IV_we32setchannel(long *index);\n",
    "    long __stdcall IV_we32setoffset(long *index, double *value);\n",
    "    long __stdcall IV_we32setoffsets(long *nval, double *values);\n",
    "    long __stdcall IV_we32getoffsets(long *nval, double *values);\n",
    "    long __stdcall IV_we32readcurrents(double *values);\n",
    "\n",
    "    long __stdcall IV_readmethod(char *fname);\n",
    "    long __stdcall IV_savemethod(char *fname);\n",
    "    long __stdcall IV_startmethod(char *fname);\n",
    "    long __stdcall IV_abort();\n",
    "    long __stdcall IV_savedata(char *fname);\n",
    "    long __stdcall IV_setmethodparameter(char *parname, char *parvalue);\n",
    "    long __stdcall IV_Ndatapoints(long *value);\n",
    "    long __stdcall IV_getdata(long *pointnr, double *x, double *y, double *z);\n",
    "    long __stdcall IV_getdatafromline(long *pointnr, long *scannr, double *x, double *y, double *z);\n",
    "\n",
    "    long __stdcall IV_getDbFileName(char *fname);\n",
    "\n",
    "    long __stdcall IV_StatusParGet(long *value);\n",
    "    long __stdcall IV_StatusParSet(long *value);\n",
    "\"\"\")"
   ]
  },
  {
   "cell_type": "markdown",
   "id": "e328bc98",
   "metadata": {},
   "source": [
    "## Import dll"
   ]
  },
  {
   "cell_type": "code",
   "execution_count": 38,
   "id": "0fe8afb5",
   "metadata": {},
   "outputs": [],
   "source": [
    "lib = ffi.dlopen(\"../pyvium_core/IVIUM_remdriver64.dll\")"
   ]
  },
  {
   "cell_type": "markdown",
   "id": "d9bf61a4",
   "metadata": {},
   "source": [
    "## IV_open()\n",
    "###### no Iviumsoft --> -1\n",
    "###### success --> 0\n",
    "###### already open --> 0"
   ]
  },
  {
   "cell_type": "code",
   "execution_count": 39,
   "id": "3db9dbc4",
   "metadata": {},
   "outputs": [],
   "source": [
    "def open_driver():\n",
    "    return lib.IV_open()"
   ]
  },
  {
   "cell_type": "code",
   "execution_count": 40,
   "id": "4fe8569d",
   "metadata": {},
   "outputs": [
    {
     "data": {
      "text/plain": [
       "0"
      ]
     },
     "execution_count": 40,
     "metadata": {},
     "output_type": "execute_result"
    }
   ],
   "source": [
    "open_driver()"
   ]
  },
  {
   "cell_type": "markdown",
   "id": "306dfd78",
   "metadata": {},
   "source": [
    "## IV_close()"
   ]
  },
  {
   "cell_type": "code",
   "execution_count": 41,
   "id": "497a9674",
   "metadata": {},
   "outputs": [],
   "source": [
    "def close_driver():\n",
    "    return lib.IV_close()"
   ]
  },
  {
   "cell_type": "code",
   "execution_count": 42,
   "id": "c5604ca2",
   "metadata": {},
   "outputs": [],
   "source": [
    "# iv_close()\n",
    "# iv_open()"
   ]
  },
  {
   "cell_type": "markdown",
   "id": "2c55bfb7",
   "metadata": {},
   "source": [
    "## IV_MaxDevices()"
   ]
  },
  {
   "cell_type": "code",
   "execution_count": 43,
   "id": "de514365",
   "metadata": {},
   "outputs": [],
   "source": [
    "def get_max_device_number():\n",
    "    return lib.IV_MaxDevices()"
   ]
  },
  {
   "cell_type": "code",
   "execution_count": 44,
   "id": "7be293e9",
   "metadata": {},
   "outputs": [
    {
     "data": {
      "text/plain": [
       "24"
      ]
     },
     "execution_count": 44,
     "metadata": {},
     "output_type": "execute_result"
    }
   ],
   "source": [
    "get_max_device_number()"
   ]
  },
  {
   "cell_type": "markdown",
   "id": "1ac8197b",
   "metadata": {},
   "source": [
    "## IV_readSN(char *sntext)\n",
    "######  no IV_open() --> crash\n",
    "######  no Iviumsoft --> -1 (rc=-1)\n",
    "######  no device --> '' (rc=0)\n",
    "######  device --> serialNum (rc=0)"
   ]
  },
  {
   "cell_type": "code",
   "execution_count": 45,
   "id": "6fd683f3",
   "metadata": {},
   "outputs": [
    {
     "data": {
      "text/plain": [
       "(0, 'B59340')"
      ]
     },
     "execution_count": 45,
     "metadata": {},
     "output_type": "execute_result"
    }
   ],
   "source": [
    "def read_serial_number():\n",
    "    serial_number_char_16 = ffi.new(\"char[]\", 16)\n",
    "    rc = lib.IV_readSN(serial_number_char_16)\n",
    "   \n",
    "    return rc, ffi.string(serial_number_char_16).decode(\"utf-8\")\n",
    "\n",
    "read_serial_number()"
   ]
  },
  {
   "cell_type": "markdown",
   "id": "9d8e9970",
   "metadata": {},
   "source": [
    "## IV_selectdevice(long *devnr)\n",
    "######  no IV_open() --> crash\n",
    "######  IV_open() --> integer values\n"
   ]
  },
  {
   "cell_type": "code",
   "execution_count": 46,
   "id": "9ef3137f",
   "metadata": {},
   "outputs": [
    {
     "name": "stdout",
     "output_type": "stream",
     "text": [
      "(-2027738624, 1)\n"
     ]
    }
   ],
   "source": [
    "def select_iviumsoft_instance(iviumsoft_instance_number):\n",
    "    instance_number = ffi.new(\"long *\", iviumsoft_instance_number)\n",
    "    rc = lib.IV_selectdevice(instance_number)\n",
    "\n",
    "    return rc,instance_number[0]\n",
    "\n",
    "# iv_close()\n",
    "# iv_open()\n",
    "print(select_iviumsoft_instance(1))"
   ]
  },
  {
   "cell_type": "markdown",
   "id": "342d12c1",
   "metadata": {},
   "source": [
    "## IV_connect(long *devconnect)\n",
    "######  no IV_open() --> crash\n",
    "######  IV_open() --> with 1 connects device and with 0 disconnects it\n",
    "###### software not running => -1\n",
    "###### no device connected through usb => 1\n",
    "###### device connected through usb    => 0 (device connected in iviumsoft)\n"
   ]
  },
  {
   "cell_type": "code",
   "execution_count": 47,
   "id": "cbdf3ecb",
   "metadata": {},
   "outputs": [
    {
     "name": "stdout",
     "output_type": "stream",
     "text": [
      "(-1, 1)\n"
     ]
    }
   ],
   "source": [
    "## connection_status: 1 connect, 0 disconnect\n",
    "def connect_device():\n",
    "    connection_on = ffi.new(\"long *\", 1)\n",
    "    result_code = lib.IV_connect(connection_on)\n",
    "    return lib.IV_connect(connection_on),connection_on[0]\n",
    "\n",
    "def disconnect_device():\n",
    "    connection_off = ffi.new(\"long *\", 0)\n",
    "    return lib.IV_connect(connection_off)\n",
    "\n",
    "#open_driver()\n",
    "# print(iv_select_iviumsoft_instance(1))\n",
    "print(connect_device())\n",
    "# print(2, iv_disconnect_device())"
   ]
  },
  {
   "cell_type": "markdown",
   "id": "c980dca5",
   "metadata": {},
   "source": [
    "## IV_VersionDll()\n",
    "######  no IV_open() --> crash\n",
    "######  IV_open() --> returns the version for the driver's dll without points (200)\n"
   ]
  },
  {
   "cell_type": "code",
   "execution_count": 48,
   "id": "198a6f7e",
   "metadata": {},
   "outputs": [],
   "source": [
    "#open_driver()\n",
    "def get_dll_version():\n",
    "    return lib.IV_VersionDll()\n",
    "\n",
    "# print(iv_get_dll_version())"
   ]
  },
  {
   "cell_type": "markdown",
   "id": "9d4d1aa3",
   "metadata": {},
   "source": [
    "## IV_VersionCheck()\n",
    "######  no IV_open() --> crash\n",
    "######  IV_open() --> returns 1 if the ivium software is running, -255 otherwise"
   ]
  },
  {
   "cell_type": "code",
   "execution_count": 49,
   "id": "3c7783c9",
   "metadata": {},
   "outputs": [
    {
     "name": "stdout",
     "output_type": "stream",
     "text": [
      "-256\n"
     ]
    }
   ],
   "source": [
    "#open_driver()\n",
    "def is_iviumsoft_running():\n",
    "    result_code = lib.IV_VersionCheck()\n",
    "    return result_code\n",
    "\n",
    "print(is_iviumsoft_running())"
   ]
  },
  {
   "cell_type": "markdown",
   "id": "2d8a2785",
   "metadata": {},
   "source": [
    "\n",
    "## IV_getdevicestatus()\n",
    "\n",
    "-1=no IviumSoft; 0=not connected; 1=available_idle; 2=available_busy; 3=no device available\n"
   ]
  },
  {
   "cell_type": "code",
   "execution_count": 50,
   "id": "8619ad21",
   "metadata": {},
   "outputs": [],
   "source": [
    "def get_device_status():\n",
    "    rc = lib.IV_getdevicestatus()\n",
    "    print(rc)\n",
    "    return lib.IV_getdevicestatus()\n",
    "    \n",
    "#get_device_status()"
   ]
  },
  {
   "cell_type": "markdown",
   "id": "2d8a2785",
   "metadata": {},
   "source": [
    "\n",
    "## Ndatapoints(int)\n",
    "\n",
    "result_code => -1=no IviumSoft; 0=other case\n"
   ]
  },
  {
   "cell_type": "code",
   "execution_count": 51,
   "id": "8619ad21",
   "metadata": {},
   "outputs": [],
   "source": [
    "open_driver()\n",
    "def get_data_points_quantity():\n",
    "    data_point = ffi.new(\"long *\")\n",
    "\n",
    "    result_code = lib.IV_Ndatapoints(data_point)\n",
    "\n",
    "    return result_code, data_point[0]\n",
    "    \n",
    "#print(get_data_points_quantity())"
   ]
  },
  {
   "cell_type": "markdown",
   "id": "2d8a2785",
   "metadata": {},
   "source": [
    "\n",
    "## IV_getdata(int,d1,d2,d3)\n",
    "\n",
    "result_code => -1=no IviumSoft; 0=other case\n",
    "\n",
    "values => 0.0,0.0,0.0\n"
   ]
  },
  {
   "cell_type": "code",
   "execution_count": 52,
   "id": "8619ad21",
   "metadata": {},
   "outputs": [],
   "source": [
    "#open_driver()\n",
    "def get_data_point(data_point_index):\n",
    "    selected_data_point_index = ffi.new(\"long *\", data_point_index)\n",
    "    measured_value1 = ffi.new(\"double *\")\n",
    "    measured_value2 = ffi.new(\"double *\")\n",
    "    measured_value3 = ffi.new(\"double *\")\n",
    "\n",
    "    result_code = lib.IV_getdata(selected_data_point_index, measured_value1, measured_value2, measured_value3)\n",
    "\n",
    "    return result_code, measured_value1[0], measured_value2[0], measured_value3[0]\n",
    "    \n",
    "#print(get_data_point(2))"
   ]
  },
  {
   "cell_type": "markdown",
   "id": "2d8a2785",
   "metadata": {},
   "source": [
    "\n",
    "## IV_getdatafromline(int, int2, d1, d2, d3)\n",
    "\n",
    "result_code => -1=no IviumSoft; 0=other case\n",
    "\n",
    "values => 0.0,0.0,0.0\n"
   ]
  },
  {
   "cell_type": "code",
   "execution_count": 53,
   "id": "8619ad21",
   "metadata": {},
   "outputs": [],
   "source": [
    "#open_driver()\n",
    "def get_data_point_from_scan(data_point_index, scan_index):\n",
    "    selected_data_point_index = ffi.new(\"long *\", data_point_index)\n",
    "    selected_line_index = ffi.new(\"long *\", scan_index)\n",
    "    measured_value1 = ffi.new(\"double *\")\n",
    "    measured_value2 = ffi.new(\"double *\")\n",
    "    measured_value3 = ffi.new(\"double *\")\n",
    "\n",
    "    result_code = lib.IV_getdatafromline(selected_data_point_index, selected_line_index, measured_value1, measured_value2, measured_value3)\n",
    "\n",
    "    return result_code, measured_value1[0], measured_value2[0], measured_value3[0]\n",
    "    \n",
    "#print(get_data_point_from_scan(2, 3))"
   ]
  },
  {
   "cell_type": "markdown",
   "id": "efefaaf2",
   "metadata": {},
   "source": [
    "## IV_getcellstatus(long *devcellstatus)"
   ]
  },
  {
   "cell_type": "code",
   "execution_count": 54,
   "id": "4fd7dc2d",
   "metadata": {},
   "outputs": [
    {
     "name": "stdout",
     "output_type": "stream",
     "text": [
      "(0, ['Cell on'])\n",
      "['Cell on']\n"
     ]
    }
   ],
   "source": [
    "def get_cell_status():\n",
    "    cell_status_bits = ffi.new(\"long *\")\n",
    "    result_code = lib.IV_getcellstatus(cell_status_bits)\n",
    "    cell_status_labels = []\n",
    "    if result_code == 0:\n",
    "        labels = [\"I_ovl\",\"\", \"Anin1_ovl\",\"E_ovl\",\"\", \"CellOff_button pressed\", \"Cell on\"]\n",
    "        for i, label in enumerate(labels,2):\n",
    "            if cell_status_bits[0] & (1 << i) and label:\n",
    "                cell_status_labels.append(label)\n",
    "    return result_code, cell_status_labels\n",
    "open_driver()\n",
    "print(get_cell_status())\n",
    "def IV_getcellstatus():\n",
    "        '''Returns cell status labels\n",
    "        [\"I_ovl\", \"Anin1_ovl\",\"E_ovl\", \"CellOff_button pressed\", \"Cell on\"]'''\n",
    "        cell_status_ptr = ffi.new(\"long *\")\n",
    "        result_code = lib.IV_getcellstatus(cell_status_ptr)\n",
    "        return result_code,cell_status_ptr[0]\n",
    "result_code, cell_status = IV_getcellstatus()\n",
    "cell_status_labels = []\n",
    "if result_code == 0:\n",
    "    labels = [\"I_ovl\",\"\", \"Anin1_ovl\",\"E_ovl\",\"\", \"CellOff_button pressed\", \"Cell on\"]\n",
    "    for i, label in enumerate(labels,2):\n",
    "        if cell_status & (1 << i) and label:\n",
    "            cell_status_labels.append(label)\n",
    "print(cell_status_labels)\n"
   ]
  },
  {
   "cell_type": "markdown",
   "id": "ef515472",
   "metadata": {},
   "source": [
    "## IV_readmethod(char *)"
   ]
  },
  {
   "cell_type": "code",
   "execution_count": 55,
   "id": "eda10752",
   "metadata": {},
   "outputs": [],
   "source": [
    "open_driver()\n",
    "\n",
    "def load_method(method_file_path):\n",
    "    method_file_path_ptr = ffi.new(\"char []\", method_file_path.encode(\"utf-8\"))\n",
    "    \n",
    "    result_code = lib.IV_readmethod(method_file_path_ptr)\n",
    "\n",
    "    return result_code, ffi.string(method_file_path_ptr).decode(\"utf-8\")\n",
    "\n",
    "# print(load_method(\"C:/Repos/test2.imf\"))"
   ]
  },
  {
   "cell_type": "markdown",
   "id": "ef515472",
   "metadata": {},
   "source": [
    "## IV_savemethod(char *)"
   ]
  },
  {
   "cell_type": "code",
   "execution_count": 56,
   "id": "eda10752",
   "metadata": {},
   "outputs": [],
   "source": [
    "open_driver()\n",
    "\n",
    "def save_method(method_file_path):\n",
    "    method_file_path_ptr = ffi.new(\"char []\", method_file_path.encode(\"utf-8\"))\n",
    "    \n",
    "    result_code = lib.IV_savemethod(method_file_path_ptr)\n",
    "\n",
    "    return result_code, ffi.string(method_file_path_ptr).decode(\"utf-8\")\n",
    "\n",
    "# print(save_method(\"C:/Repos/pepe.imf\"))"
   ]
  },
  {
   "cell_type": "markdown",
   "id": "ef515472",
   "metadata": {},
   "source": [
    "## IV_startmethod(char *)"
   ]
  },
  {
   "cell_type": "code",
   "execution_count": 57,
   "id": "da2a8c81",
   "metadata": {},
   "outputs": [],
   "source": [
    "open_driver()\n",
    "\n",
    "# def start_active_method():\n",
    "#     method_mode_settings_path_ptr = ffi.new(\"char []\", b'')\n",
    "    \n",
    "#     result_code = lib.IV_startmethod(method_mode_settings_path_ptr)\n",
    "\n",
    "#     return result_code, ffi.string(method_mode_settings_path_ptr).decode(\"utf-8\")\n",
    "\n",
    "def start_method(method_file_path = ''):\n",
    "    method_file_path_ptr = ffi.new(\"char []\", method_file_path.encode(\"utf-8\"))\n",
    "    \n",
    "    result_code = lib.IV_startmethod(method_file_path_ptr)\n",
    "\n",
    "    return result_code, ffi.string(method_file_path_ptr).decode(\"utf-8\")\n",
    "\n",
    "# print(start_method())\n",
    "# print(start_method(\"test2.imf\"))"
   ]
  },
  {
   "cell_type": "markdown",
   "id": "ef515472",
   "metadata": {},
   "source": [
    "## IV_savedata(char *)"
   ]
  },
  {
   "cell_type": "code",
   "execution_count": 58,
   "id": "eda10752",
   "metadata": {},
   "outputs": [],
   "source": [
    "open_driver()\n",
    "\n",
    "def save_method_data(method_data_file_path):\n",
    "    method_data_file_path_ptr = ffi.new(\"char []\", method_data_file_path.encode(\"utf-8\"))\n",
    "    \n",
    "    result_code = lib.IV_savedata(method_data_file_path_ptr)\n",
    "\n",
    "    return result_code, ffi.string(method_data_file_path_ptr).decode(\"utf-8\")\n",
    "\n",
    "# print(save_method_data(\"results2.idf\"))"
   ]
  },
  {
   "cell_type": "markdown",
   "id": "ef515472",
   "metadata": {},
   "source": [
    "## IV_abort(char *)"
   ]
  },
  {
   "cell_type": "code",
   "execution_count": 59,
   "id": "eda10752",
   "metadata": {},
   "outputs": [],
   "source": [
    "open_driver()\n",
    "\n",
    "def abort_method():\n",
    "    result_code = lib.IV_abort()\n",
    "\n",
    "    return result_code\n",
    "\n",
    "#print(abort_method())"
   ]
  },
  {
   "cell_type": "markdown",
   "id": "ef515472",
   "metadata": {},
   "source": [
    "## IV_setmethodparameter(char *, char *)"
   ]
  },
  {
   "cell_type": "code",
   "execution_count": 60,
   "id": "eda10752",
   "metadata": {},
   "outputs": [
    {
     "data": {
      "text/plain": [
       "0"
      ]
     },
     "execution_count": 60,
     "metadata": {},
     "output_type": "execute_result"
    }
   ],
   "source": [
    "open_driver()\n",
    "\n",
    "def set_method_parameter_value(parameter_name, parameter_value):\n",
    "    parameter_name_ptr = ffi.new(\"char []\", parameter_name.encode(\"utf-8\"))\n",
    "    parameter_value_ptr = ffi.new(\"char []\", parameter_value.encode(\"utf-8\"))\n",
    "    \n",
    "    result_code = lib.IV_setmethodparameter(parameter_name_ptr, parameter_value_ptr)\n",
    "\n",
    "    return result_code\n",
    "\n",
    "#print(set_method_parameter_value(\"Mode\", \"HiSpeed2\"))\n",
    "#print(set_method_parameter_value(\"Title\", \"New Scan1\"))\n",
    "#print(set_method_parameter_value(\"+Redefine filename\", \"Checked\"))\n",
    "\n",
    "close_driver()"
   ]
  },
  {
   "cell_type": "markdown",
   "id": "2dc2b93d",
   "metadata": {},
   "source": [
    "## IV_setconnectionmode(long *value)"
   ]
  },
  {
   "cell_type": "code",
   "execution_count": 61,
   "id": "ee6fa751",
   "metadata": {},
   "outputs": [],
   "source": [
    "# Select configuration, 0=off; 1=EStat4EL(default), 2=EStat2EL,3=EstatDummy1,4=EStatDummy2,5=EstatDummy3,6=EstatDummy4, 7=Istat4EL, 8=Istat2EL, 9=IstatDummy (missing!!!), 10=BiStat4EL, 11=BiStat2EL\n",
    "\n",
    "\n",
    "def set_connection_mode(connection_mode_number):\n",
    "    connection_mode_number_ptr = ffi.new(\"long *\",connection_mode_number)\n",
    "    result_code = lib.IV_setconnectionmode(connection_mode_number_ptr)\n",
    "\n",
    "    return result_code\n",
    "\n",
    "#set_connection_mode(2)"
   ]
  },
  {
   "cell_type": "markdown",
   "id": "2dc2b93d",
   "metadata": {},
   "source": [
    "## IV_getcurrenttrace(long* npoints, double *rate, double *values)"
   ]
  },
  {
   "cell_type": "code",
   "execution_count": 62,
   "id": "ee6fa751",
   "metadata": {},
   "outputs": [],
   "source": [
    "# npoints<=256, interval: 10us to 20ms\n",
    "\n",
    "# revienta para valores (3, 10)\n",
    "def get_current_trace(points_quantity, interval_rate):\n",
    "    points_quantity_ptr = ffi.new(\"long *\",points_quantity)\n",
    "    interval_rate_ptr = ffi.new(\"double *\",interval_rate)\n",
    "    result_ptr = ffi.new(\"double *\")\n",
    "\n",
    "    result_code = lib.IV_getcurrenttrace(points_quantity_ptr, interval_rate_ptr, result_ptr)\n",
    "\n",
    "    return result_code, result_ptr[0]\n",
    "\n",
    "#open_driver()\n",
    "#get_current_trace(2, 10)\n",
    "#close_driver()"
   ]
  },
  {
   "cell_type": "markdown",
   "id": "2dc2b93d",
   "metadata": {},
   "source": [
    "## IV_getcurrentWE2trace(long* npoints, double *rate, double *values)"
   ]
  },
  {
   "cell_type": "code",
   "execution_count": 63,
   "id": "ee6fa751",
   "metadata": {},
   "outputs": [],
   "source": [
    "# npoints<=256, interval: 10us to 20ms\n",
    "def get_current_we2_trace(points_quantity, interval_rate):\n",
    "    points_quantity_ptr = ffi.new(\"long *\",points_quantity)\n",
    "    interval_rate_ptr = ffi.new(\"double *\",interval_rate)\n",
    "    result_ptr = ffi.new(\"double *\")\n",
    "\n",
    "    result_code = lib.IV_getcurrentWE2trace(points_quantity_ptr, interval_rate_ptr, result_ptr)\n",
    "\n",
    "    return result_code, result_ptr[0]\n",
    "\n",
    "# open_driver()\n",
    "# get_current_we2_trace(1, 1)\n",
    "# close_driver()"
   ]
  },
  {
   "cell_type": "markdown",
   "id": "2dc2b93d",
   "metadata": {},
   "source": [
    "## IV_getpotentialtrace(long* npoints, double *rate, double *values)"
   ]
  },
  {
   "cell_type": "code",
   "execution_count": 64,
   "id": "ee6fa751",
   "metadata": {},
   "outputs": [],
   "source": [
    "# npoints<=256, interval: 10us to 20ms\n",
    "def get_current_potencial_trace(points_quantity, interval_rate):\n",
    "    points_quantity_ptr = ffi.new(\"long *\",points_quantity)\n",
    "    interval_rate_ptr = ffi.new(\"double *\",interval_rate)\n",
    "    result_ptr = ffi.new(\"double *\")\n",
    "\n",
    "    result_code = lib.IV_getpotentialtrace(points_quantity_ptr, interval_rate_ptr, result_ptr)\n",
    "\n",
    "    return result_code, result_ptr[0]\n",
    "\n",
    "# open_driver()\n",
    "# get_current_potencial_trace(1, 1)\n",
    "# close_driver()"
   ]
  },
  {
   "cell_type": "markdown",
   "id": "5330bf52",
   "metadata": {},
   "source": [
    "##IV_setcellon"
   ]
  },
  {
   "cell_type": "code",
   "execution_count": 69,
   "id": "e48f2e9a",
   "metadata": {},
   "outputs": [
    {
     "data": {
      "text/plain": [
       "0"
      ]
     },
     "execution_count": 69,
     "metadata": {},
     "output_type": "execute_result"
    }
   ],
   "source": [
    "def IV_setcellon(cell_on_mode_number):\n",
    "        '''Set cell on off to close cell relais (0=off;1=on)'''\n",
    "        cell_on_mode_number_ptr = ffi.new(\"long *\", cell_on_mode_number)\n",
    "        result_code = lib.IV_setconnectionmode(\n",
    "            cell_on_mode_number_ptr)\n",
    "\n",
    "        return result_code\n",
    "IV_setcellon(4)"
   ]
  }
 ],
 "metadata": {
  "kernelspec": {
   "display_name": "Python 3.11.0 64-bit",
   "language": "python",
   "name": "python3"
  },
  "language_info": {
   "codemirror_mode": {
    "name": "ipython",
    "version": 3
   },
   "file_extension": ".py",
   "mimetype": "text/x-python",
   "name": "python",
   "nbconvert_exporter": "python",
   "pygments_lexer": "ipython3",
   "version": "3.11.0"
  },
  "vscode": {
   "interpreter": {
    "hash": "c261aea317cc0286b3b3261fbba9abdec21eaa57589985bb7a274bf54d6cc0a7"
   }
  }
 },
 "nbformat": 4,
 "nbformat_minor": 5
}
