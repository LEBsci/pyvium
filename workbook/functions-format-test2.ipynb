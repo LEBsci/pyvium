{
 "cells": [
  {
   "cell_type": "code",
   "execution_count": 56,
   "id": "141909ca",
   "metadata": {},
   "outputs": [],
   "source": [
    "from cffi import FFI"
   ]
  },
  {
   "cell_type": "code",
   "execution_count": 57,
   "id": "c5000f71",
   "metadata": {},
   "outputs": [],
   "source": [
    "ffi = FFI()\n",
    "ffi.cdef(\"\"\"\n",
    "    long __stdcall IV_open();\n",
    "    long __stdcall IV_close();\n",
    "    long __stdcall IV_MaxDevices();\n",
    "    long __stdcall IV_selectdevice(long *devnr);\n",
    "    long __stdcall IV_getdevicestatus();\n",
    "    long __stdcall IV_readSN(char *sntext);\n",
    "    long __stdcall IV_connect(long* devconnect);\n",
    "    long __stdcall IV_VersionHost(long *version);\n",
    "    long __stdcall IV_VersionDll();\n",
    "    long __stdcall IV_VersionCheck();\n",
    "    long __stdcall IV_HostHandle();\n",
    "    long __stdcall IV_VersionDllFile();\n",
    "    long __stdcall IV_VersionDllFileStr();\n",
    "    long __stdcall IV_SelectChannel(long *channel);\n",
    "\"\"\")"
   ]
  },
  {
   "cell_type": "markdown",
   "id": "e328bc98",
   "metadata": {},
   "source": [
    "## Import dll"
   ]
  },
  {
   "cell_type": "code",
   "execution_count": 58,
   "id": "0fe8afb5",
   "metadata": {},
   "outputs": [],
   "source": [
    "lib = ffi.dlopen(\"../pyvium_core/IVIUM_remdriver64.dll\")"
   ]
  },
  {
   "cell_type": "code",
   "execution_count": 59,
   "id": "5b1360ec",
   "metadata": {},
   "outputs": [],
   "source": [
    "from dataclasses import dataclass\n",
    "\n",
    "@dataclass\n",
    "class App:\n",
    "    is_driver_open: bool\n",
    "\n",
    "app = App(False)"
   ]
  },
  {
   "cell_type": "code",
   "execution_count": 60,
   "id": "1793e46b",
   "metadata": {},
   "outputs": [],
   "source": [
    "def iv_open():\n",
    "    app.is_driver_open = True\n",
    "    return lib.IV_open()"
   ]
  },
  {
   "cell_type": "code",
   "execution_count": 61,
   "id": "6fd683f3",
   "metadata": {},
   "outputs": [],
   "source": [
    "class Error(Exception):\n",
    "    \"\"\"Base class for other exceptions\"\"\"\n",
    "    pass\n",
    "\n",
    "class IviumSoftNotRunningError(Error):\n",
    "    \"\"\"Exception raised when the Ivium program is not open\"\"\"\n",
    "    pass\n",
    "\n",
    "class LibraryNotOpenError(Error):\n",
    "    \"\"\"Exception raised when the dll is not open\"\"\"\n",
    "    pass\n",
    "  \n",
    "class DeviceNotConnectedError(Error):\n",
    "    \"\"\"Exception raised when no device is connected\"\"\"\n",
    "    pass\n",
    "\n",
    "def read_serial_number():\n",
    "    serial_number = ffi.new(\"char[]\", 16)\n",
    "    rc = lib.IV_readSN(serial_number)\n",
    "\n",
    "    print(app.is_driver_open)\n",
    "\n",
    "    if not app.is_driver_open:\n",
    "        raise LibraryNotOpenError\n",
    "\n",
    "    if rc == -1:\n",
    "        raise IviumSoftNotRunningError\n",
    "\n",
    "    device_serial_number = ffi.string(serial_number).decode(\"utf-8\")\n",
    "\n",
    "    if device_serial_number == '':\n",
    "        raise DeviceNotConnectedError\n",
    "\n",
    "    return device_serial_number"
   ]
  },
  {
   "cell_type": "code",
   "execution_count": 63,
   "id": "820ec0c3",
   "metadata": {},
   "outputs": [
    {
     "name": "stdout",
     "output_type": "stream",
     "text": [
      "True\n",
      "T53201\n"
     ]
    }
   ],
   "source": [
    "iv_open()\n",
    "\n",
    "try:\n",
    "    print(read_serial_number())\n",
    "except IviumSoftNotRunningError:\n",
    "    print(\"Ivium is not running\")\n",
    "except LibraryNotOpenError:\n",
    "    print(\"The library is closed\")\n",
    "except DeviceNotConnectedError:\n",
    "    print(\"No device connected\")"
   ]
  }
 ],
 "metadata": {
  "kernelspec": {
   "display_name": "Python 3.11.0 64-bit",
   "language": "python",
   "name": "python3"
  },
  "language_info": {
   "codemirror_mode": {
    "name": "ipython",
    "version": 3
   },
   "file_extension": ".py",
   "mimetype": "text/x-python",
   "name": "python",
   "nbconvert_exporter": "python",
   "pygments_lexer": "ipython3",
   "version": "3.11.0"
  },
  "vscode": {
   "interpreter": {
    "hash": "c261aea317cc0286b3b3261fbba9abdec21eaa57589985bb7a274bf54d6cc0a7"
   }
  }
 },
 "nbformat": 4,
 "nbformat_minor": 5
}
